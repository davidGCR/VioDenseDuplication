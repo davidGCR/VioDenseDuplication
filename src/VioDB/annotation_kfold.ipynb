{
 "cells": [
  {
   "cell_type": "code",
   "execution_count": 1,
   "source": [
    "import os\n",
    "import sys\n",
    "import json"
   ],
   "outputs": [],
   "metadata": {}
  },
  {
   "cell_type": "code",
   "execution_count": 3,
   "source": [
    "!pip3 install -U scikit-learn "
   ],
   "outputs": [
    {
     "output_type": "stream",
     "name": "stdout",
     "text": [
      "Requirement already satisfied: scikit-learn in /usr/local/lib/python3.9/site-packages (0.24.2)\n",
      "Requirement already satisfied: numpy>=1.13.3 in /usr/local/lib/python3.9/site-packages (from scikit-learn) (1.20.1)\n",
      "Requirement already satisfied: scipy>=0.19.1 in /usr/local/lib/python3.9/site-packages (from scikit-learn) (1.6.3)\n",
      "Requirement already satisfied: threadpoolctl>=2.0.0 in /usr/local/lib/python3.9/site-packages (from scikit-learn) (2.2.0)\n",
      "Requirement already satisfied: joblib>=0.11 in /usr/local/lib/python3.9/site-packages (from scikit-learn) (1.0.1)\n",
      "\u001b[33mWARNING: You are using pip version 21.0.1; however, version 21.2.4 is available.\n",
      "You should consider upgrading via the '/usr/local/opt/python@3.9/bin/python3.9 -m pip install --upgrade pip' command.\u001b[0m\n"
     ]
    }
   ],
   "metadata": {}
  },
  {
   "cell_type": "code",
   "execution_count": 1,
   "source": [
    "from sklearn.model_selection import KFold"
   ],
   "outputs": [
    {
     "output_type": "error",
     "ename": "ModuleNotFoundError",
     "evalue": "No module named 'sklearn'",
     "traceback": [
      "\u001b[0;31m---------------------------------------------------------------------------\u001b[0m",
      "\u001b[0;31mModuleNotFoundError\u001b[0m                       Traceback (most recent call last)",
      "\u001b[0;32m/var/folders/89/qljzml7159g2syq_jtr4qx180000gn/T/ipykernel_64019/370171074.py\u001b[0m in \u001b[0;36m<module>\u001b[0;34m\u001b[0m\n\u001b[0;32m----> 1\u001b[0;31m \u001b[0;32mfrom\u001b[0m \u001b[0msklearn\u001b[0m\u001b[0;34m.\u001b[0m\u001b[0mmodel_selection\u001b[0m \u001b[0;32mimport\u001b[0m \u001b[0mKFold\u001b[0m\u001b[0;34m\u001b[0m\u001b[0;34m\u001b[0m\u001b[0m\n\u001b[0m",
      "\u001b[0;31mModuleNotFoundError\u001b[0m: No module named 'sklearn'"
     ]
    }
   ],
   "metadata": {}
  },
  {
   "cell_type": "code",
   "execution_count": null,
   "source": [
    "# database_path = 'mix_jpg'\n",
    "database_path = 'rvsd_jpg'"
   ],
   "outputs": [],
   "metadata": {}
  },
  {
   "cell_type": "code",
   "execution_count": null,
   "source": [
    "labels = os.listdir(database_path)"
   ],
   "outputs": [],
   "metadata": {}
  },
  {
   "cell_type": "code",
   "execution_count": null,
   "source": [
    "no_dir = os.path.join(database_path,'no')\n",
    "fi_dir = os.path.join(database_path,'fi')"
   ],
   "outputs": [],
   "metadata": {}
  },
  {
   "cell_type": "code",
   "execution_count": null,
   "source": [
    "no_data = os.listdir(no_dir)\n",
    "fi_data = os.listdir(fi_dir)"
   ],
   "outputs": [],
   "metadata": {}
  },
  {
   "cell_type": "code",
   "execution_count": null,
   "source": [
    "kf = KFold(n_splits=5, shuffle=True)"
   ],
   "outputs": [],
   "metadata": {}
  },
  {
   "cell_type": "code",
   "execution_count": null,
   "source": [
    "k_no = kf.split(no_data)\n",
    "k_fi = kf.split(fi_data)"
   ],
   "outputs": [],
   "metadata": {}
  },
  {
   "cell_type": "code",
   "execution_count": null,
   "source": [
    "# for each fold\n",
    "i = 0\n",
    "for (no_train_index, no_test_index), (fi_train_index, fi_test_index) in zip(k_no, k_fi):\n",
    "    \n",
    "    i += 1\n",
    "    \n",
    "    no_train, no_test = [no_data[x] for x in no_train_index], [no_data[x] for x in no_test_index]\n",
    "    fi_train, fi_test = [fi_data[x] for x in fi_train_index], [fi_data[x] for x in fi_test_index]\n",
    "\n",
    "    train_database = {}\n",
    "    \n",
    "    for file_name in no_train:\n",
    "        name, _ = os.path.splitext(file_name)\n",
    "        train_database[name] = {}\n",
    "        train_database[name]['subset'] = 'training'\n",
    "        train_database[name]['annotations'] = {'label': 'no'}\n",
    "    for file_name in fi_train:\n",
    "        name, _ = os.path.splitext(file_name)\n",
    "        train_database[name] = {}\n",
    "        train_database[name]['subset'] = 'training'\n",
    "        train_database[name]['annotations'] = {'label': 'fi'}\n",
    "        \n",
    "    val_database = {}\n",
    "    \n",
    "    for file_name in no_test:\n",
    "        name, _ = os.path.splitext(file_name)\n",
    "        val_database[name] = {}\n",
    "        val_database[name]['subset'] = 'validation'\n",
    "        val_database[name]['annotations'] = {'label': 'no'}\n",
    "    for file_name in fi_test:\n",
    "        name, _ = os.path.splitext(file_name)\n",
    "        val_database[name] = {}\n",
    "        val_database[name]['subset'] = 'validation'\n",
    "        val_database[name]['annotations'] = {'label': 'fi'}\n",
    "\n",
    "    \n",
    "    dst_json_path = database_path + str(i) + '.json'\n",
    "    \n",
    "    dst_data= {}\n",
    "    \n",
    "    dst_data['labels'] = labels\n",
    "    \n",
    "    dst_data['database'] = {}\n",
    "    dst_data['database'].update(train_database)\n",
    "    dst_data['database'].update(val_database)\n",
    "    \n",
    "    with open(dst_json_path, 'w') as dst_file:\n",
    "            json.dump(dst_data, dst_file)\n",
    "    "
   ],
   "outputs": [],
   "metadata": {}
  }
 ],
 "metadata": {
  "kernelspec": {
   "name": "python3",
   "display_name": "Python 3.9.4 64-bit ('.env2': venv)"
  },
  "language_info": {
   "codemirror_mode": {
    "name": "ipython",
    "version": 3
   },
   "file_extension": ".py",
   "mimetype": "text/x-python",
   "name": "python",
   "nbconvert_exporter": "python",
   "pygments_lexer": "ipython3",
   "version": "3.9.4"
  },
  "interpreter": {
   "hash": "a37c71385b5b7985f2206d280cdba2d6a591a69c7c3125805aa1887f8065c3e2"
  }
 },
 "nbformat": 4,
 "nbformat_minor": 2
}